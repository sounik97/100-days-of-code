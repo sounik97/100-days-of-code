{
 "cells": [
  {
   "cell_type": "markdown",
   "id": "apart-advance",
   "metadata": {},
   "source": [
    "# 1. |Sort Colors by number\n",
    "\n",
    "Given an array nums with n objects colored red, white, or blue, sort them in-place so that objects of the same color are adjacent, with the colors in the order red, white, and blue.\n",
    "\n",
    "We will use the integers 0, 1, and 2 to represent the color red, white, and blue, respectively.\n",
    "\n",
    "You must solve this problem without using the library's sort function.\n",
    "\n",
    " \n",
    "\n",
    "Example 1:\n",
    "\n",
    "Input: nums = [2,0,2,1,1,0]\n",
    "Output: [0,0,1,1,2,2]"
   ]
  },
  {
   "cell_type": "code",
   "execution_count": 5,
   "id": "oriented-milton",
   "metadata": {},
   "outputs": [],
   "source": [
    "\n",
    "def sortColors(nums):\n",
    "    strt = 0\n",
    "    med = 0\n",
    "    end = len(nums)-1\n",
    "\n",
    "    while med <= end:\n",
    "        if nums[med ]== 0:\n",
    "            nums[strt],nums[med] = nums[med], nums[strt]\n",
    "            strt +=1\n",
    "            med += 1\n",
    "        elif nums[med] == 2:\n",
    "            nums[med],nums[end] = nums[end], nums[med]\n",
    "            end -= 1\n",
    "\n",
    "        else:\n",
    "            med += 1\n",
    "    return nums\n",
    "                "
   ]
  },
  {
   "cell_type": "code",
   "execution_count": 6,
   "id": "soviet-hometown",
   "metadata": {},
   "outputs": [
    {
     "data": {
      "text/plain": [
       "[0, 0, 1, 2, 2]"
      ]
     },
     "execution_count": 6,
     "metadata": {},
     "output_type": "execute_result"
    }
   ],
   "source": [
    "k = sortColors([2,0,1,0,2])\n",
    "k"
   ]
  },
  {
   "cell_type": "markdown",
   "id": "silver-sudan",
   "metadata": {},
   "source": [
    "# 2. Print Missing and repeated Numbers\n",
    "\n",
    "Given an unsorted array of size n. Array elements are in the range from 1 to n. One number from set {1, 2, …n} is missing and one number occurs twice in the array. Find these two numbers.\n",
    "\n",
    "Examples: \n",
    "\n",
    " Input: arr[] = {3, 1, 3}\n",
    "Output: Missing = 2, Repeating = 3\n",
    "Explanation: In the array, \n",
    "2 is missing and 3 occurs twice "
   ]
  },
  {
   "cell_type": "code",
   "execution_count": 8,
   "id": "acting-bottle",
   "metadata": {},
   "outputs": [
    {
     "name": "stdout",
     "output_type": "stream",
     "text": [
      "missing  [4]\n",
      "repeating  [5]\n"
     ]
    }
   ],
   "source": [
    "def missing (nums):\n",
    "    end = len(nums)\n",
    "    test = {}\n",
    "    repeat = []\n",
    "    missing = []\n",
    "    \n",
    "    # Code for repeat element\n",
    "    for i in nums:\n",
    "        if i not in test:\n",
    "            test[i] = True\n",
    "        else:\n",
    "            repeat.append(i)\n",
    "    # Code for missing element\n",
    "    for i in range(1,end):\n",
    "        if i not in nums:\n",
    "            missing.append(i)\n",
    "\n",
    "    print('missing ', missing)\n",
    "    print('repeating ', repeat)\n",
    "    \n",
    "\n",
    "p = missing([1,2,3,5,5])\n",
    "            \n",
    "            \n",
    "    "
   ]
  },
  {
   "cell_type": "markdown",
   "id": "crude-russell",
   "metadata": {},
   "source": [
    "# 3. Kedane's Algorithm\n",
    "\n",
    "Given an integer array nums, find the contiguous subarray (containing at least one number) which has the largest sum and return its sum.\n",
    "\n",
    " \n",
    "\n",
    "Example 1:\n",
    "\n",
    "Input: nums = [-2,1,-3,4,-1,2,1,-5,4]\n",
    "Output: 6\n",
    "Explanation: [4,-1,2,1] has the largest sum = 6.\n",
    "\n",
    "ExplanationVideo: <a>https://www.youtube.com/watch?v=2MmGzdiKR9Y&t=194s</a>"
   ]
  },
  {
   "cell_type": "code",
   "execution_count": 29,
   "id": "collective-imaging",
   "metadata": {},
   "outputs": [],
   "source": [
    "def kedane(nums):\n",
    "    if not nums:\n",
    "        return 0\n",
    "    \n",
    "    presentelement = maxsum = nums[0]\n",
    "    \n",
    "    for i in nums[1:]:\n",
    "        presentelement = max(i, presentelement+i)\n",
    "        maxsum = max(presentelement, maxsum)\n",
    "    return maxsum"
   ]
  },
  {
   "cell_type": "code",
   "execution_count": 30,
   "id": "opened-incident",
   "metadata": {},
   "outputs": [
    {
     "data": {
      "text/plain": [
       "3"
      ]
     },
     "execution_count": 30,
     "metadata": {},
     "output_type": "execute_result"
    }
   ],
   "source": [
    "s = kedane([0,1,2,-3,3])\n",
    "s"
   ]
  },
  {
   "cell_type": "markdown",
   "id": "clear-invention",
   "metadata": {},
   "source": [
    "# simple approach"
   ]
  },
  {
   "cell_type": "code",
   "execution_count": 31,
   "id": "demonstrated-twins",
   "metadata": {
    "scrolled": true
   },
   "outputs": [],
   "source": [
    "def kedane1(nums):\n",
    "    for i in range(1,len(nums)):\n",
    "        nums[i] = max(nums[i], nums[i]+nums[i-1])\n",
    "    return max(nums)"
   ]
  },
  {
   "cell_type": "code",
   "execution_count": 32,
   "id": "progressive-potential",
   "metadata": {},
   "outputs": [
    {
     "data": {
      "text/plain": [
       "3"
      ]
     },
     "execution_count": 32,
     "metadata": {},
     "output_type": "execute_result"
    }
   ],
   "source": [
    "s = kedane1([0,1,2,-3,3])\n",
    "s"
   ]
  },
  {
   "cell_type": "markdown",
   "id": "difficult-synthetic",
   "metadata": {},
   "source": [
    "# 4. Merge Overlapping intervals\n",
    "\n",
    "Given an array of intervals where intervals[i] = [starti, endi], merge all overlapping intervals, and return an array of the non-overlapping intervals that cover all the intervals in the input.\n",
    "\n",
    " \n",
    "\n",
    "Example 1:\n",
    "\n",
    "Input: intervals = [[1,3],[2,6],[8,10],[15,18]]\n",
    "Output: [[1,6],[8,10],[15,18]]\n",
    "Explanation: Since intervals [1,3] and [2,6] overlaps, merge them into [1,6].\n",
    "\n",
    "\n",
    "\n",
    "Link: <a>https://leetcode.com/problems/merge-intervals/</a>"
   ]
  },
  {
   "cell_type": "code",
   "execution_count": 40,
   "id": "suited-invasion",
   "metadata": {},
   "outputs": [],
   "source": [
    "def mergeintervals(nums):\n",
    "    if len(nums) <= 1:\n",
    "        return nums\n",
    "    ans = []\n",
    "    \n",
    "    for currentint in sorted(nums):\n",
    "        if not ans or ans[-1][1] < currentint[0]:\n",
    "            ans.append(currentint)\n",
    "        else:\n",
    "            ans[-1][1] = max(ans[-1][1], currentint[1])\n",
    "    return ans"
   ]
  },
  {
   "cell_type": "code",
   "execution_count": 41,
   "id": "lined-store",
   "metadata": {},
   "outputs": [
    {
     "data": {
      "text/plain": [
       "[[1, 6], [8, 10], [15, 18]]"
      ]
     },
     "execution_count": 41,
     "metadata": {},
     "output_type": "execute_result"
    }
   ],
   "source": [
    "k = mergeintervals( [[1,3],[2,6],[8,10],[15,18]] )\n",
    "k"
   ]
  },
  {
   "cell_type": "code",
   "execution_count": 44,
   "id": "juvenile-protocol",
   "metadata": {},
   "outputs": [
    {
     "name": "stderr",
     "output_type": "stream",
     "text": [
      "The syntax of the command is incorrect.\n"
     ]
    }
   ],
   "source": [
    "!mkdir"
   ]
  },
  {
   "cell_type": "code",
   "execution_count": null,
   "id": "theoretical-presence",
   "metadata": {},
   "outputs": [],
   "source": []
  }
 ],
 "metadata": {
  "kernelspec": {
   "display_name": "Python 3.8.8 64-bit",
   "language": "python",
   "name": "python38864bit29d521b9750541d79bffadcf8e4e0647"
  },
  "language_info": {
   "codemirror_mode": {
    "name": "ipython",
    "version": 3
   },
   "file_extension": ".py",
   "mimetype": "text/x-python",
   "name": "python",
   "nbconvert_exporter": "python",
   "pygments_lexer": "ipython3",
   "version": "3.8.8"
  }
 },
 "nbformat": 4,
 "nbformat_minor": 5
}
